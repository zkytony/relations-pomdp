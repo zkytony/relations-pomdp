{
 "cells": [
  {
   "cell_type": "code",
   "execution_count": 1,
   "metadata": {},
   "outputs": [],
   "source": [
    "import pgmpy"
   ]
  },
  {
   "cell_type": "markdown",
   "metadata": {},
   "source": [
    "# How to define a random variable, its values, and its distribution?"
   ]
  },
  {
   "cell_type": "markdown",
   "metadata": {},
   "source": [
    "In pgmpy,\n",
    "> The workflow is to first define the model structure, then define all the parameters (CPDs) and then add these parameters to the model."
   ]
  },
  {
   "cell_type": "markdown",
   "metadata": {},
   "source": [
    "The BayesianModel can be initialized by edges in the model structure. For example, the code below defines a model with edges:\n",
    "* Pollution --> Cancer\n",
    "* Smoker --> Cancer\n",
    "* Cancer --> Xray\n",
    "* Cancer --> Dyspnoea"
   ]
  },
  {
   "cell_type": "code",
   "execution_count": 1,
   "metadata": {},
   "outputs": [],
   "source": [
    "from pgmpy.models import BayesianModel\n",
    "\n",
    "cancer_model = BayesianModel([[\"Pollution\", \"Cancer\"],\n",
    "                             [\"Smoker\", \"Cancer\"],\n",
    "                             [\"Cancer\", \"Xray\"],\n",
    "                             [\"Cancer\", \"Dyspnoea\"]])"
   ]
  },
  {
   "cell_type": "code",
   "execution_count": 5,
   "metadata": {},
   "outputs": [
    {
     "data": {
      "text/plain": [
       "NodeView(('Pollution', 'Cancer', 'Smoker', 'Xray', 'Caner', 'Dyspnoea'))"
      ]
     },
     "execution_count": 5,
     "metadata": {},
     "output_type": "execute_result"
    }
   ],
   "source": [
    "# Variables\n",
    "cancer_model.nodes"
   ]
  },
  {
   "cell_type": "code",
   "execution_count": 7,
   "metadata": {},
   "outputs": [
    {
     "data": {
      "text/plain": [
       "OutEdgeView([('Pollution', 'Cancer'), ('Cancer', 'Xray'), ('Smoker', 'Cancer'), ('Caner', 'Dyspnoea')])"
      ]
     },
     "execution_count": 7,
     "metadata": {},
     "output_type": "execute_result"
    }
   ],
   "source": [
    "# Structure (i.e. edges)\n",
    "cancer_model.edges"
   ]
  },
  {
   "cell_type": "markdown",
   "metadata": {},
   "source": [
    "Specifying the conditional probability distribution.\n",
    "In the model above, how many CPDs do we need to specify?\n",
    "* Pr(Pollution)\n",
    "* Pr(Smoker)\n",
    "* Pr(Cancer | Pollution, Smoker)\n",
    "* Pr(Xray | Cancer)\n",
    "* Pr(Dysponea | Cancer)"
   ]
  },
  {
   "cell_type": "code",
   "execution_count": 2,
   "metadata": {},
   "outputs": [],
   "source": [
    "from pgmpy.factors.discrete import TabularCPD\n",
    "\n",
    "cpd_poll = TabularCPD(variable='Pollution', variable_card=2,\n",
    "                      values=[[0.9], [0.1]])\n",
    "cpd_smoke = TabularCPD(variable='Smoker', variable_card=2,\n",
    "                       values=[[0.3], [0.7]])\n",
    "cpd_cancer = TabularCPD(variable='Cancer', variable_card=2,\n",
    "                        values=[[0.03, 0.05, 0.001, 0.02],\n",
    "                                [0.97, 0.95, 0.999, 0.98]],\n",
    "                        evidence=['Smoker', 'Pollution'],\n",
    "                        evidence_card=[2, 2])\n",
    "cpd_xray = TabularCPD(variable='Xray', variable_card=2,\n",
    "                      values=[[0.9, 0.2], [0.1, 0.8]],\n",
    "                      evidence=['Cancer'], evidence_card=[2])\n",
    "cpd_dysp = TabularCPD(variable='Dyspnoea', variable_card=2,\n",
    "                      values=[[0.65, 0.3], [0.35, 0.7]],\n",
    "                      evidence=['Cancer'], evidence_card=[2])"
   ]
  },
  {
   "cell_type": "markdown",
   "metadata": {},
   "source": [
    "Explanation: The reason we have 2x4 array for `cpd_cancer` is that, the Cancer variable itself has 2 values, Smoker, and Pollution each have 2 possible values. The conditional table looks like:\n",
    "```\n",
    "Smoker     |    smoker_0           smoker 1\n",
    "Pollution  |  poll_0  poll_1    poll_0   poll_1\n",
    "cancer_0   |   0.03    0.05      0.001    0.01\n",
    "cancer_1   |   0.97    0.95      0.999    0.98\n",
    "```\n",
    "Basically, each cell represents a Pr(Cancer = c | Smoker = s, Pollution = p) probability"
   ]
  },
  {
   "cell_type": "markdown",
   "metadata": {},
   "source": [
    "Now that the CPDs (i.e. parameters) are specified, we add them into the model:"
   ]
  },
  {
   "cell_type": "code",
   "execution_count": 4,
   "metadata": {},
   "outputs": [
    {
     "name": "stderr",
     "output_type": "stream",
     "text": [
      "WARNING:root:Replacing existing CPD for Pollution\n",
      "WARNING:root:Replacing existing CPD for Smoker\n",
      "WARNING:root:Replacing existing CPD for Cancer\n",
      "WARNING:root:Replacing existing CPD for Xray\n",
      "WARNING:root:Replacing existing CPD for Dyspnoea\n"
     ]
    },
    {
     "data": {
      "text/plain": [
       "True"
      ]
     },
     "execution_count": 4,
     "metadata": {},
     "output_type": "execute_result"
    }
   ],
   "source": [
    "cancer_model.add_cpds(cpd_poll, cpd_smoke, cpd_cancer, cpd_xray, cpd_dysp)\n",
    "\n",
    "# Checks if the CPDs are correctly defined for the model structure\n",
    "cancer_model.check_model()"
   ]
  },
  {
   "cell_type": "markdown",
   "metadata": {},
   "source": [
    "### Compute conditional dependencies"
   ]
  },
  {
   "cell_type": "code",
   "execution_count": 5,
   "metadata": {},
   "outputs": [
    {
     "data": {
      "text/plain": [
       "(Pollution _|_ Smoker)\n",
       "(Pollution _|_ Xray, Dyspnoea | Cancer)\n",
       "(Pollution _|_ Xray | Dyspnoea, Cancer)\n",
       "(Pollution _|_ Dyspnoea | Xray, Cancer)\n",
       "(Pollution _|_ Xray, Dyspnoea | Smoker, Cancer)\n",
       "(Pollution _|_ Xray | Smoker, Dyspnoea, Cancer)\n",
       "(Pollution _|_ Dyspnoea | Xray, Smoker, Cancer)\n",
       "(Smoker _|_ Pollution)\n",
       "(Smoker _|_ Xray, Dyspnoea | Cancer)\n",
       "(Smoker _|_ Xray, Dyspnoea | Pollution, Cancer)\n",
       "(Smoker _|_ Dyspnoea | Xray, Cancer)\n",
       "(Smoker _|_ Xray | Dyspnoea, Cancer)\n",
       "(Smoker _|_ Dyspnoea | Pollution, Xray, Cancer)\n",
       "(Smoker _|_ Xray | Pollution, Dyspnoea, Cancer)\n",
       "(Xray _|_ Pollution, Dyspnoea, Smoker | Cancer)\n",
       "(Xray _|_ Dyspnoea, Smoker | Pollution, Cancer)\n",
       "(Xray _|_ Pollution, Smoker | Dyspnoea, Cancer)\n",
       "(Xray _|_ Pollution, Dyspnoea | Smoker, Cancer)\n",
       "(Xray _|_ Smoker | Pollution, Dyspnoea, Cancer)\n",
       "(Xray _|_ Dyspnoea | Pollution, Smoker, Cancer)\n",
       "(Xray _|_ Pollution | Smoker, Dyspnoea, Cancer)\n",
       "(Dyspnoea _|_ Pollution, Xray, Smoker | Cancer)\n",
       "(Dyspnoea _|_ Xray, Smoker | Pollution, Cancer)\n",
       "(Dyspnoea _|_ Pollution, Smoker | Xray, Cancer)\n",
       "(Dyspnoea _|_ Pollution, Xray | Smoker, Cancer)\n",
       "(Dyspnoea _|_ Smoker | Pollution, Xray, Cancer)\n",
       "(Dyspnoea _|_ Xray | Pollution, Smoker, Cancer)\n",
       "(Dyspnoea _|_ Pollution | Xray, Smoker, Cancer)"
      ]
     },
     "execution_count": 5,
     "metadata": {},
     "output_type": "execute_result"
    }
   ],
   "source": [
    "cancer_model.get_independencies()"
   ]
  },
  {
   "cell_type": "markdown",
   "metadata": {},
   "source": [
    "## Factor graphs"
   ]
  },
  {
   "cell_type": "markdown",
   "metadata": {},
   "source": [
    "Factor graphs is a generalization of Bayesian Networks."
   ]
  },
  {
   "cell_type": "code",
   "execution_count": 7,
   "metadata": {},
   "outputs": [],
   "source": [
    "from pgmpy.models import FactorGraph\n",
    "from pgmpy.factors.discrete import DiscreteFactor"
   ]
  },
  {
   "cell_type": "code",
   "execution_count": 29,
   "metadata": {},
   "outputs": [],
   "source": [
    "G = FactorGraph()\n",
    "G.add_nodes_from([\"A\", \"B\", \"C\"])"
   ]
  },
  {
   "cell_type": "markdown",
   "metadata": {},
   "source": [
    "Add factors.\n",
    "> DiscreteFactor( variables, cardinality, values, state_names={} )\n",
    "\n",
    "`state_names` is a mapping from variable name to a list of values. "
   ]
  },
  {
   "cell_type": "code",
   "execution_count": 30,
   "metadata": {},
   "outputs": [],
   "source": [
    "phi1 = DiscreteFactor([\"A\", \"B\"], [2,2], [10, 0.4, 20, 5], state_names={\"A\":[\"a1\",\"a2\"], \"B\":[\"b1\",\"b2\"]})\n",
    "phi2 = DiscreteFactor([\"B\", \"C\"], [2,2], [3, 2.4, 75, 25], state_names={\"C\":[\"c1\",\"c2\"], \"B\":[\"b1\",\"b2\"]})\n",
    "G.add_factors(phi1, phi2)\n",
    "# THIS IS IMPORTANT!\n",
    "G.add_edges_from([('A', phi1), ('B', phi1),\n",
    "                   ('B', phi2), ('C', phi2)]) "
   ]
  },
  {
   "cell_type": "markdown",
   "metadata": {},
   "source": [
    "The order matters. In the example above, `[\"A\", \"B\"]` implies that the `values` correspond to:\n",
    "```\n",
    "   A    B     phi(A,B)\n",
    "  a1    b1    10\n",
    "  a1    b2    0.4\n",
    "  a2    b1    20\n",
    "  a2    b2    5\n",
    "```\n",
    "The reason `a1` is before `a2` is that I specified `{\"A\": [\"a1\",\"a2\"]}` in the `state_names` vairable.\n",
    "\n",
    "Printing out verifies this."
   ]
  },
  {
   "cell_type": "code",
   "execution_count": 31,
   "metadata": {},
   "outputs": [
    {
     "name": "stdout",
     "output_type": "stream",
     "text": [
      "+-------+-------+------------+\n",
      "| A     | B     |   phi(A,B) |\n",
      "+=======+=======+============+\n",
      "| A(a1) | B(b1) |    10.0000 |\n",
      "+-------+-------+------------+\n",
      "| A(a1) | B(b2) |     0.4000 |\n",
      "+-------+-------+------------+\n",
      "| A(a2) | B(b1) |    20.0000 |\n",
      "+-------+-------+------------+\n",
      "| A(a2) | B(b2) |     5.0000 |\n",
      "+-------+-------+------------+\n"
     ]
    }
   ],
   "source": [
    "print(phi1)"
   ]
  },
  {
   "cell_type": "code",
   "execution_count": 32,
   "metadata": {},
   "outputs": [
    {
     "data": {
      "text/plain": [
       "{'A', 'B', 'C'}"
      ]
     },
     "execution_count": 32,
     "metadata": {},
     "output_type": "execute_result"
    }
   ],
   "source": [
    "variable_nodes = set([x for factor in G.factors for x in factor.scope()])\n",
    "variable_nodes"
   ]
  },
  {
   "cell_type": "code",
   "execution_count": 33,
   "metadata": {},
   "outputs": [
    {
     "data": {
      "text/plain": [
       "{<DiscreteFactor representing phi(A:2, B:2) at 0x7fea55442310>,\n",
       " <DiscreteFactor representing phi(B:2, C:2) at 0x7fea55442250>}"
      ]
     },
     "execution_count": 33,
     "metadata": {},
     "output_type": "execute_result"
    }
   ],
   "source": [
    "factor_nodes = set(G.nodes()) - variable_nodes\n",
    "factor_nodes"
   ]
  },
  {
   "cell_type": "code",
   "execution_count": 35,
   "metadata": {},
   "outputs": [
    {
     "data": {
      "text/plain": [
       "True"
      ]
     },
     "execution_count": 35,
     "metadata": {},
     "output_type": "execute_result"
    }
   ],
   "source": [
    "G.check_model()"
   ]
  },
  {
   "cell_type": "markdown",
   "metadata": {},
   "source": [
    "### Inference\n",
    "\n",
    "Belief propagation"
   ]
  },
  {
   "cell_type": "code",
   "execution_count": 17,
   "metadata": {},
   "outputs": [],
   "source": [
    "from pgmpy.inference import BeliefPropagation"
   ]
  },
  {
   "cell_type": "code",
   "execution_count": 39,
   "metadata": {},
   "outputs": [
    {
     "name": "stderr",
     "output_type": "stream",
     "text": [
      "0it [00:00, ?it/s]\n"
     ]
    }
   ],
   "source": [
    "bp = BeliefPropagation(G)\n",
    "factor = bp.query([\"A\",\"B\"], evidence={\"C\": \"c1\"})"
   ]
  },
  {
   "cell_type": "code",
   "execution_count": 40,
   "metadata": {},
   "outputs": [
    {
     "name": "stdout",
     "output_type": "stream",
     "text": [
      "+-------+-------+------------+\n",
      "| B     | A     |   phi(B,A) |\n",
      "+=======+=======+============+\n",
      "| B(b1) | A(a1) |     0.0606 |\n",
      "+-------+-------+------------+\n",
      "| B(b1) | A(a2) |     0.1212 |\n",
      "+-------+-------+------------+\n",
      "| B(b2) | A(a1) |     0.0606 |\n",
      "+-------+-------+------------+\n",
      "| B(b2) | A(a2) |     0.7576 |\n",
      "+-------+-------+------------+\n"
     ]
    }
   ],
   "source": [
    "print(factor)"
   ]
  },
  {
   "cell_type": "markdown",
   "metadata": {},
   "source": [
    "Look up probabilities in the factor"
   ]
  },
  {
   "cell_type": "code",
   "execution_count": 46,
   "metadata": {},
   "outputs": [
    {
     "data": {
      "text/plain": [
       "0.0606060606060606"
      ]
     },
     "execution_count": 46,
     "metadata": {},
     "output_type": "execute_result"
    }
   ],
   "source": [
    "factor.get_value({\"A\":\"a1\", \"B\":\"b1\"})"
   ]
  }
 ],
 "metadata": {
  "kernelspec": {
   "display_name": "Python 3",
   "language": "python",
   "name": "python3"
  },
  "language_info": {
   "codemirror_mode": {
    "name": "ipython",
    "version": 3
   },
   "file_extension": ".py",
   "mimetype": "text/x-python",
   "name": "python",
   "nbconvert_exporter": "python",
   "pygments_lexer": "ipython3",
   "version": "3.7.4"
  }
 },
 "nbformat": 4,
 "nbformat_minor": 2
}
