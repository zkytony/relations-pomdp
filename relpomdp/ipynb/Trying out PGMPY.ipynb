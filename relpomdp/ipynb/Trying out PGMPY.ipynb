{
 "cells": [
  {
   "cell_type": "code",
   "execution_count": 1,
   "metadata": {},
   "outputs": [],
   "source": [
    "import pgmpy"
   ]
  },
  {
   "cell_type": "code",
   "execution_count": 2,
   "metadata": {},
   "outputs": [],
   "source": [
    "from pgmpy.models import MarkovModel"
   ]
  },
  {
   "cell_type": "code",
   "execution_count": 3,
   "metadata": {},
   "outputs": [],
   "source": [
    "G = MarkovModel()"
   ]
  },
  {
   "cell_type": "code",
   "execution_count": 4,
   "metadata": {},
   "outputs": [],
   "source": [
    "G.add_nodes_from(['a','b','c','d'])"
   ]
  },
  {
   "cell_type": "code",
   "execution_count": 5,
   "metadata": {},
   "outputs": [],
   "source": [
    "G.add_edges_from([('a','b'),('b','c'),('b','d'),('c','d')])"
   ]
  },
  {
   "cell_type": "code",
   "execution_count": 6,
   "metadata": {},
   "outputs": [],
   "source": [
    "import networkx as nx"
   ]
  },
  {
   "cell_type": "code",
   "execution_count": 7,
   "metadata": {},
   "outputs": [],
   "source": [
    "%matplotlib inline\n",
    "import matplotlib.pyplot as plt"
   ]
  },
  {
   "cell_type": "code",
   "execution_count": 8,
   "metadata": {},
   "outputs": [
    {
     "data": {
      "image/png": "[encoded data removed]",
      "text/plain": [
       "<Figure size 432x288 with 1 Axes>"
      ]
     },
     "metadata": {},
     "output_type": "display_data"
    }
   ],
   "source": [
    "nx.draw(G, with_labels=True)"
   ]
  },
  {
   "cell_type": "code",
   "execution_count": 13,
   "metadata": {},
   "outputs": [],
   "source": [
    "from pgmpy.factors.discrete import DiscreteFactor\n",
    "import numpy as np"
   ]
  },
  {
   "cell_type": "code",
   "execution_count": 14,
   "metadata": {},
   "outputs": [],
   "source": [
    "factor_ab = DiscreteFactor(['a','b'], cardinality=[10,10], values=np.random.rand(100))\n",
    "G.add_factors(factor_ab)\n",
    "factor_bc = DiscreteFactor(['b','c'], cardinality=[10,10], values=np.random.rand(100))\n",
    "G.add_factors(factor_bc)\n",
    "factor_cd = DiscreteFactor(['c','d'], cardinality=[10,10], values=np.random.rand(100))\n",
    "G.add_factors(factor_cd)\n",
    "factor_bd = DiscreteFactor(['b','d'], cardinality=[10,10], values=np.random.rand(100))\n",
    "G.add_factors(factor_bd)"
   ]
  },
  {
   "cell_type": "code",
   "execution_count": 15,
   "metadata": {},
   "outputs": [
    {
     "data": {
      "text/plain": [
       "True"
      ]
     },
     "execution_count": 15,
     "metadata": {},
     "output_type": "execute_result"
    }
   ],
   "source": [
    "G.check_model()"
   ]
  },
  {
   "cell_type": "code",
   "execution_count": 16,
   "metadata": {},
   "outputs": [],
   "source": [
    "from pgmpy.inference import BeliefPropagation"
   ]
  },
  {
   "cell_type": "code",
   "execution_count": 17,
   "metadata": {},
   "outputs": [],
   "source": [
    "bp = BeliefPropagation(G)"
   ]
  },
  {
   "cell_type": "code",
   "execution_count": 24,
   "metadata": {},
   "outputs": [
    {
     "name": "stderr",
     "output_type": "stream",
     "text": [
      "Eliminating: b: 100%|██████████| 1/1 [00:00<00:00, 1024.75it/s]"
     ]
    },
    {
     "name": "stdout",
     "output_type": "stream",
     "text": [
      "+------+----------+\n",
      "| a    |   phi(a) |\n",
      "+======+==========+\n",
      "| a(0) |  28.3085 |\n",
      "+------+----------+\n",
      "| a(1) |  28.2304 |\n",
      "+------+----------+\n",
      "| a(2) |  28.3532 |\n",
      "+------+----------+\n",
      "| a(3) |  13.3246 |\n",
      "+------+----------+\n",
      "| a(4) |  31.3084 |\n",
      "+------+----------+\n",
      "| a(5) |  36.4135 |\n",
      "+------+----------+\n",
      "| a(6) |  34.4748 |\n",
      "+------+----------+\n",
      "| a(7) |  32.5796 |\n",
      "+------+----------+\n",
      "| a(8) |  28.4285 |\n",
      "+------+----------+\n",
      "| a(9) |  22.6500 |\n",
      "+------+----------+\n"
     ]
    },
    {
     "name": "stderr",
     "output_type": "stream",
     "text": [
      "\n"
     ]
    }
   ],
   "source": [
    "print(bp.query(variables=['a']))"
   ]
  },
  {
   "cell_type": "code",
   "execution_count": null,
   "metadata": {},
   "outputs": [],
   "source": []
  }
 ],
 "metadata": {
  "kernelspec": {
   "display_name": "Python 3",
   "language": "python",
   "name": "python3"
  },
  "language_info": {
   "codemirror_mode": {
    "name": "ipython",
    "version": 3
   },
   "file_extension": ".py",
   "mimetype": "text/x-python",
   "name": "python",
   "nbconvert_exporter": "python",
   "pygments_lexer": "ipython3",
   "version": "3.7.4"
  }
 },
 "nbformat": 4,
 "nbformat_minor": 2
}
